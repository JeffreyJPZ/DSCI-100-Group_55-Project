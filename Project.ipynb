{
 "cells": [
  {
   "cell_type": "markdown",
   "id": "4078e3ff-7e6a-46fc-ba2a-9e6fc1403905",
   "metadata": {},
   "source": [
    "TITLE"
   ]
  },
  {
   "cell_type": "markdown",
   "id": "0993c3f5-e305-49b3-90a8-5e4817eadaee",
   "metadata": {},
   "source": [
    "INTRODUCTION"
   ]
  },
  {
   "cell_type": "markdown",
   "id": "a5fc95cc-a378-4366-95ef-005fac1d367a",
   "metadata": {},
   "source": []
  },
  {
   "cell_type": "markdown",
   "id": "10d16022-82b0-4423-a5ec-98617642fb7f",
   "metadata": {},
   "source": [
    "PRELIMINARY EXPLORATORY DATA ANALYSIS"
   ]
  },
  {
   "cell_type": "code",
   "execution_count": null,
   "id": "a3222ae2-f117-4442-b4eb-1738774e6577",
   "metadata": {},
   "outputs": [],
   "source": []
  },
  {
   "cell_type": "markdown",
   "id": "bdc0d76a-1782-4e31-bd3b-d7ccdccbfa7b",
   "metadata": {},
   "source": [
    "METHODS"
   ]
  },
  {
   "cell_type": "markdown",
   "id": "5bfd9071-5fcd-4ecc-b774-9a5ac2be4070",
   "metadata": {},
   "source": []
  },
  {
   "cell_type": "markdown",
   "id": "44080271-4d22-4d09-b4c8-291440f5a67a",
   "metadata": {},
   "source": [
    "EXPECTED OUTCOMES AND SIGNIFICANCE"
   ]
  },
  {
   "cell_type": "markdown",
   "id": "31ee45b2-1ed6-4e82-adb2-2e752bf2f6d7",
   "metadata": {},
   "source": []
  }
 ],
 "metadata": {
  "kernelspec": {
   "display_name": "R",
   "language": "R",
   "name": "ir"
  },
  "language_info": {
   "codemirror_mode": "r",
   "file_extension": ".r",
   "mimetype": "text/x-r-source",
   "name": "R",
   "pygments_lexer": "r",
   "version": "4.1.3"
  }
 },
 "nbformat": 4,
 "nbformat_minor": 5
}
